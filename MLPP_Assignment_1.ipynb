{
 "cells": [
  {
   "cell_type": "code",
   "execution_count": 2,
   "id": "99f1fb36",
   "metadata": {
    "scrolled": true
   },
   "outputs": [
    {
     "name": "stdout",
     "output_type": "stream",
     "text": [
      "Requirement already satisfied: censusdata in c:\\users\\kyles\\anaconda3\\lib\\site-packages (1.15)\n",
      "Requirement already satisfied: requests in c:\\users\\kyles\\anaconda3\\lib\\site-packages (from censusdata) (2.25.1)\n",
      "Requirement already satisfied: pandas in c:\\users\\kyles\\anaconda3\\lib\\site-packages (from censusdata) (1.2.4)\n",
      "Requirement already satisfied: python-dateutil>=2.7.3 in c:\\users\\kyles\\anaconda3\\lib\\site-packages (from pandas->censusdata) (2.8.1)\n",
      "Requirement already satisfied: pytz>=2017.3 in c:\\users\\kyles\\anaconda3\\lib\\site-packages (from pandas->censusdata) (2021.1)\n",
      "Requirement already satisfied: numpy>=1.16.5 in c:\\users\\kyles\\anaconda3\\lib\\site-packages (from pandas->censusdata) (1.20.1)\n",
      "Requirement already satisfied: six>=1.5 in c:\\users\\kyles\\anaconda3\\lib\\site-packages (from python-dateutil>=2.7.3->pandas->censusdata) (1.15.0)\n",
      "Requirement already satisfied: idna<3,>=2.5 in c:\\users\\kyles\\anaconda3\\lib\\site-packages (from requests->censusdata) (2.10)\n",
      "Requirement already satisfied: certifi>=2017.4.17 in c:\\users\\kyles\\anaconda3\\lib\\site-packages (from requests->censusdata) (2020.12.5)\n",
      "Requirement already satisfied: urllib3<1.27,>=1.21.1 in c:\\users\\kyles\\anaconda3\\lib\\site-packages (from requests->censusdata) (1.26.4)\n",
      "Requirement already satisfied: chardet<5,>=3.0.2 in c:\\users\\kyles\\anaconda3\\lib\\site-packages (from requests->censusdata) (4.0.0)\n",
      "Requirement already satisfied: psycopg2 in c:\\users\\kyles\\anaconda3\\lib\\site-packages (2.9.1)\n"
     ]
    }
   ],
   "source": [
    "import sys\n",
    "!{sys.executable} -m pip install censusdata\n",
    "import requests\n",
    "!pip install psycopg2\n",
    "import pandas as pd\n",
    "import re\n",
    "import psycopg2\n",
    "from sqlalchemy import create_engine\n",
    "from io import StringIO\n",
    "\n"
   ]
  },
  {
   "cell_type": "code",
   "execution_count": 3,
   "id": "5f05bb6d",
   "metadata": {},
   "outputs": [],
   "source": [
    "HOST = \"https://api.census.gov/data\"\n",
    "year = \"2019\"\n",
    "data = \"acs/acs5\"\n",
    "url = \"/\".join([HOST, year, data])\n",
    "\n",
    "\n"
   ]
  },
  {
   "cell_type": "code",
   "execution_count": 4,
   "id": "9c0eb3e1",
   "metadata": {},
   "outputs": [
    {
     "name": "stdout",
     "output_type": "stream",
     "text": [
      "      Male_Population Female_Population Median_Income Median_Age  \\\n",
      "0                 364               396         44821       48.4   \n",
      "1                 547               728         30361       30.6   \n",
      "2                 994              1194         24271       24.8   \n",
      "3                  86               422         43220       27.4   \n",
      "4                 736               614         24646       31.7   \n",
      "...               ...               ...           ...        ...   \n",
      "15458             338               231         60625       53.3   \n",
      "15459             805               845         65054       39.8   \n",
      "15460             446               437         72679       63.7   \n",
      "15461             420               719         36250       53.8   \n",
      "15462             420               336         71213       34.7   \n",
      "\n",
      "      Median_Age_Male Median_Age_Female      State    County   Tract  \\\n",
      "0                35.6              54.4   New York   Albany   000100   \n",
      "1                24.3              38.1   New York   Albany   000100   \n",
      "2                26.2              24.8   New York   Albany   000200   \n",
      "3                48.9              23.8   New York   Albany   000200   \n",
      "4                27.9              40.8   New York   Albany   000200   \n",
      "...               ...               ...        ...       ...     ...   \n",
      "15458            56.6              42.1   New York    Yates   150400   \n",
      "15459            40.0              39.6   New York    Yates   150500   \n",
      "15460            59.9              64.9   New York    Yates   150500   \n",
      "15461            52.8              54.3   New York    Yates   150500   \n",
      "15462            35.7              29.1   New York    Yates   150500   \n",
      "\n",
      "      Block_Group Census_State_Num Census_County_Num  \n",
      "0               1               36               001  \n",
      "1               2               36               001  \n",
      "2               1               36               001  \n",
      "3               2               36               001  \n",
      "4               3               36               001  \n",
      "...           ...              ...               ...  \n",
      "15458           4               36               123  \n",
      "15459           1               36               123  \n",
      "15460           2               36               123  \n",
      "15461           3               36               123  \n",
      "15462           4               36               123  \n",
      "\n",
      "[15463 rows x 12 columns]\n"
     ]
    }
   ],
   "source": [
    "specs = {}\n",
    "get_var = [\"NAME\", \"B01001_002E\", \"B01001_026E\", 'B19013_001E', 'B01002_001E', 'B01002_002E', 'B01002_003E']\n",
    "specs[\"get\"] = \",\".join(get_var)\n",
    "specs[\"for\"] = \"block%20group:*\"\n",
    "specs[\"in\"] = \"state:36%20county:*;tract:*\"\n",
    "\n",
    "api_pull = url + \"?get=\" + specs[\"get\"] + \"&for=\" + specs[\"for\"] + \"&in=\" + specs[\"in\"]\n",
    "\n",
    "\n",
    "\n",
    "col_names = [\"Locale\", \"Male_Population\", \"Female_Population\",\"Median_Income\", \"Median_Age\", \"Median_Age_Male\", \"Median_Age_Female\",\"Census_State_Num\", \"Census_County_Num\", \"Tract\", \"Block_Group\"]\n",
    "r = requests.get(api_pull)\n",
    "\n",
    "\n",
    "df = pd.DataFrame(columns = col_names, data = r.json()[1:])\n",
    "\n",
    "\n",
    "locale_list = df['Locale'].tolist()\n",
    "\n",
    "blockGroups = []\n",
    "tracts = []\n",
    "counties = []\n",
    "states = []\n",
    "\n",
    "\n",
    "for l in locale_list:\n",
    "    bg = l.split(',')[0]\n",
    "    numericBg = re.sub(\"[^0-9]\", \"\",bg )\n",
    "    blockGroups.append(numericBg)\n",
    "    \n",
    "    tract = l.split(',')[1]\n",
    "    numericTract = re.sub(\"[^0-9]\", \"\",tract )\n",
    "    tracts.append(numericTract)\n",
    "    \n",
    "    county = l.split(',')[2]\n",
    "    county = county.replace('County', '')\n",
    "    counties.append(county)\n",
    "    \n",
    "    states.append(l.split(',')[3])\n",
    "    \n",
    "\n",
    "df[\"County\"]  = counties  \n",
    "df[\"State\"] = states\n",
    "df = df.drop(columns=['Locale'])\n",
    "\n",
    "correct_order = [\"Male_Population\", \"Female_Population\",\"Median_Income\", \"Median_Age\", \"Median_Age_Male\", \"Median_Age_Female\",  \"State\", \"County\", \"Tract\", \"Block_Group\", \"Census_State_Num\", \"Census_County_Num\"]\n",
    "\n",
    "df = df.reindex(columns=correct_order)\n",
    "\n",
    "\n",
    "#print(df)\n",
    "\n"
   ]
  },
  {
   "cell_type": "code",
   "execution_count": 5,
   "id": "58264088",
   "metadata": {},
   "outputs": [
    {
     "name": "stdout",
     "output_type": "stream",
     "text": [
      "Table dropped... \n"
     ]
    }
   ],
   "source": [
    "username = \"mlpp_student\"\n",
    "password = \"CARE-horse-most\"\n",
    "dbhost = \"acs-db.mlpolicylab.dssg.io\" \n",
    "port = 5432 \n",
    "dbname = \"acs_data_loading\" \n",
    "    \n",
    "\n",
    "\n",
    "\n",
    "conn = psycopg2.connect(\n",
    "   database=\"acs_data_loading\", user='mlpp_student', password='CARE-horse-most', host='acs-db.mlpolicylab.dssg.io', port= '5432'\n",
    ")\n",
    "\n",
    "\n",
    "\n",
    "# Create table statement\n",
    "\n",
    "table_create_sql = '''\n",
    "CREATE TABLE  ksoto_acs_data6  (             Id                  bigInt,\n",
    "                                            Male_Population     bigint,\n",
    "                                            Female_Population   bigint,\n",
    "                                            Median_Income       double precision,\n",
    "                                            Median_Age          double precision,\n",
    "                                            Median_Age_Male     double precision,\n",
    "                                            Median_Age_Female   double precision,\n",
    "                                            State               varchar(128),\n",
    "                                            County              varchar(128),\n",
    "                                            Tract               varchar(128),\n",
    "                                            Block_Group         varchar(128),\n",
    "                                            Census_State_Num    varchar(128),\n",
    "                                            Census_County_Num   varchar(128))\n",
    "'''\n",
    "\n",
    "\n",
    "\n",
    "\n",
    "cursor = conn.cursor()\n",
    "cursor.execute(table_create_sql)\n",
    "\n",
    "\n",
    "conn.commit()\n",
    "\n",
    "\n"
   ]
  },
  {
   "cell_type": "code",
   "execution_count": 13,
   "id": "7b0cab17",
   "metadata": {},
   "outputs": [
    {
     "name": "stdout",
     "output_type": "stream",
     "text": [
      "(0, 364, 396, 44821.0, 48.4, 35.6, 54.4, ' New York', ' Albany ', '000100', '1', '36', '001')\n"
     ]
    }
   ],
   "source": [
    "#print(df.columns)\n",
    "\n",
    "\n",
    "sio = StringIO()\n",
    "sio.write(df.to_csv(index=True, header=None))\n",
    "sio.seek(0)\n",
    "\n",
    "cur = conn.cursor()\n",
    "\n",
    "\n",
    "cur.copy_from(sio, \"ksoto_acs_data6\", sep =',')\n",
    "conn.commit()\n",
    "\n",
    "\n",
    "cur.execute('''SELECT * from ksoto_acs_data6''')\n",
    "\n",
    "#Fetching 1st row from the table\n",
    "result = cur.fetchone();\n",
    "print(result)\n",
    "\n"
   ]
  },
  {
   "cell_type": "code",
   "execution_count": null,
   "id": "3ddf8765",
   "metadata": {},
   "outputs": [],
   "source": []
  },
  {
   "cell_type": "code",
   "execution_count": null,
   "id": "ae7f18aa",
   "metadata": {},
   "outputs": [],
   "source": []
  }
 ],
 "metadata": {
  "kernelspec": {
   "display_name": "Python 3",
   "language": "python",
   "name": "python3"
  },
  "language_info": {
   "codemirror_mode": {
    "name": "ipython",
    "version": 3
   },
   "file_extension": ".py",
   "mimetype": "text/x-python",
   "name": "python",
   "nbconvert_exporter": "python",
   "pygments_lexer": "ipython3",
   "version": "3.8.8"
  }
 },
 "nbformat": 4,
 "nbformat_minor": 5
}
